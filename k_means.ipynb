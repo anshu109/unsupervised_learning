{
  "nbformat": 4,
  "nbformat_minor": 0,
  "metadata": {
    "interpreter": {
      "hash": "31f2aee4e71d21fbe5cf8b01ff0e069b9275f58929596ceb00d14d90e3e16cd6"
    },
    "kernelspec": {
      "display_name": "Python 3.8.2 64-bit",
      "name": "python3"
    },
    "language_info": {
      "codemirror_mode": {
        "name": "ipython",
        "version": 3
      },
      "file_extension": ".py",
      "mimetype": "text/x-python",
      "name": "python",
      "nbconvert_exporter": "python",
      "pygments_lexer": "ipython3",
      "version": "3.8.2"
    },
    "orig_nbformat": 4,
    "colab": {
      "name": "k_means.ipynb",
      "provenance": [],
      "include_colab_link": true
    }
  },
  "cells": [
    {
      "cell_type": "markdown",
      "metadata": {
        "id": "view-in-github",
        "colab_type": "text"
      },
      "source": [
        "<a href=\"https://colab.research.google.com/github/anshu109/unsupervised_learning/blob/main/k_means.ipynb\" target=\"_parent\"><img src=\"https://colab.research.google.com/assets/colab-badge.svg\" alt=\"Open In Colab\"/></a>"
      ]
    },
    {
      "cell_type": "markdown",
      "metadata": {
        "id": "85jWCI2tJ5EU"
      },
      "source": [
        "**Import required Libraries**"
      ]
    },
    {
      "cell_type": "code",
      "metadata": {
        "id": "XhxWJsErJ5EX"
      },
      "source": [
        "import pandas as pd\n",
        "import numpy as np\n",
        "import matplotlib.pyplot as plt\n",
        "import seaborn as sns\n",
        "import math"
      ],
      "execution_count": 6,
      "outputs": []
    },
    {
      "cell_type": "markdown",
      "metadata": {
        "id": "vWqXavhNJ5EZ"
      },
      "source": [
        "**Read csv file**"
      ]
    },
    {
      "cell_type": "code",
      "metadata": {
        "colab": {
          "base_uri": "https://localhost:8080/",
          "height": 509
        },
        "id": "clDW5jWuJ5Ea",
        "outputId": "67ffb661-3ac2-4c27-9213-67d7e978bc1a"
      },
      "source": [
        "data = pd.read_csv('/content/employee-compensation.csv')\n",
        "data.head()"
      ],
      "execution_count": 7,
      "outputs": [
        {
          "output_type": "execute_result",
          "data": {
            "text/html": [
              "<div>\n",
              "<style scoped>\n",
              "    .dataframe tbody tr th:only-of-type {\n",
              "        vertical-align: middle;\n",
              "    }\n",
              "\n",
              "    .dataframe tbody tr th {\n",
              "        vertical-align: top;\n",
              "    }\n",
              "\n",
              "    .dataframe thead th {\n",
              "        text-align: right;\n",
              "    }\n",
              "</style>\n",
              "<table border=\"1\" class=\"dataframe\">\n",
              "  <thead>\n",
              "    <tr style=\"text-align: right;\">\n",
              "      <th></th>\n",
              "      <th>Organization Group Code</th>\n",
              "      <th>Job Family Code</th>\n",
              "      <th>Job Code</th>\n",
              "      <th>Year Type</th>\n",
              "      <th>Year</th>\n",
              "      <th>Organization Group</th>\n",
              "      <th>Department Code</th>\n",
              "      <th>Department</th>\n",
              "      <th>Union Code</th>\n",
              "      <th>Union</th>\n",
              "      <th>Job Family</th>\n",
              "      <th>Job</th>\n",
              "      <th>Employee Identifier</th>\n",
              "      <th>Salaries</th>\n",
              "      <th>Overtime</th>\n",
              "      <th>Other Salaries</th>\n",
              "      <th>Total Salary</th>\n",
              "      <th>Retirement</th>\n",
              "      <th>Health and Dental</th>\n",
              "      <th>Other Benefits</th>\n",
              "      <th>Total Benefits</th>\n",
              "      <th>Total Compensation</th>\n",
              "    </tr>\n",
              "  </thead>\n",
              "  <tbody>\n",
              "    <tr>\n",
              "      <th>0</th>\n",
              "      <td>1</td>\n",
              "      <td>1000</td>\n",
              "      <td>1021</td>\n",
              "      <td>Calendar</td>\n",
              "      <td>2013</td>\n",
              "      <td>Public Protection</td>\n",
              "      <td>ADP</td>\n",
              "      <td>ADP Adult Probation</td>\n",
              "      <td>21</td>\n",
              "      <td>Prof &amp; Tech Engineers - Miscellaneous, Local 21</td>\n",
              "      <td>Information Systems</td>\n",
              "      <td>IS Administrator 1</td>\n",
              "      <td>37730</td>\n",
              "      <td>57534.65</td>\n",
              "      <td>0.0</td>\n",
              "      <td>0.00</td>\n",
              "      <td>57534.65</td>\n",
              "      <td>11253.16</td>\n",
              "      <td>11961.34</td>\n",
              "      <td>4532.63</td>\n",
              "      <td>27747.13</td>\n",
              "      <td>85281.78</td>\n",
              "    </tr>\n",
              "    <tr>\n",
              "      <th>1</th>\n",
              "      <td>1</td>\n",
              "      <td>1000</td>\n",
              "      <td>1023</td>\n",
              "      <td>Calendar</td>\n",
              "      <td>2013</td>\n",
              "      <td>Public Protection</td>\n",
              "      <td>ADP</td>\n",
              "      <td>ADP Adult Probation</td>\n",
              "      <td>21</td>\n",
              "      <td>Prof &amp; Tech Engineers - Miscellaneous, Local 21</td>\n",
              "      <td>Information Systems</td>\n",
              "      <td>IS Administrator 3</td>\n",
              "      <td>26574</td>\n",
              "      <td>57678.50</td>\n",
              "      <td>0.0</td>\n",
              "      <td>0.00</td>\n",
              "      <td>57678.50</td>\n",
              "      <td>10284.88</td>\n",
              "      <td>7176.80</td>\n",
              "      <td>4755.14</td>\n",
              "      <td>22216.82</td>\n",
              "      <td>79895.32</td>\n",
              "    </tr>\n",
              "    <tr>\n",
              "      <th>2</th>\n",
              "      <td>1</td>\n",
              "      <td>1000</td>\n",
              "      <td>1031</td>\n",
              "      <td>Calendar</td>\n",
              "      <td>2013</td>\n",
              "      <td>Public Protection</td>\n",
              "      <td>ADP</td>\n",
              "      <td>ADP Adult Probation</td>\n",
              "      <td>21</td>\n",
              "      <td>Prof &amp; Tech Engineers - Miscellaneous, Local 21</td>\n",
              "      <td>Information Systems</td>\n",
              "      <td>IS Trainer-Assistant</td>\n",
              "      <td>8148</td>\n",
              "      <td>63532.93</td>\n",
              "      <td>0.0</td>\n",
              "      <td>0.00</td>\n",
              "      <td>63532.93</td>\n",
              "      <td>12495.83</td>\n",
              "      <td>12918.24</td>\n",
              "      <td>4702.71</td>\n",
              "      <td>30116.78</td>\n",
              "      <td>93649.71</td>\n",
              "    </tr>\n",
              "    <tr>\n",
              "      <th>3</th>\n",
              "      <td>1</td>\n",
              "      <td>1000</td>\n",
              "      <td>1054</td>\n",
              "      <td>Calendar</td>\n",
              "      <td>2013</td>\n",
              "      <td>Public Protection</td>\n",
              "      <td>ADP</td>\n",
              "      <td>ADP Adult Probation</td>\n",
              "      <td>21</td>\n",
              "      <td>Prof &amp; Tech Engineers - Miscellaneous, Local 21</td>\n",
              "      <td>Information Systems</td>\n",
              "      <td>IS Business Analyst-Principal</td>\n",
              "      <td>27436</td>\n",
              "      <td>101274.51</td>\n",
              "      <td>0.0</td>\n",
              "      <td>-7058.59</td>\n",
              "      <td>94215.92</td>\n",
              "      <td>19644.45</td>\n",
              "      <td>12918.24</td>\n",
              "      <td>7458.76</td>\n",
              "      <td>40021.45</td>\n",
              "      <td>134237.37</td>\n",
              "    </tr>\n",
              "    <tr>\n",
              "      <th>4</th>\n",
              "      <td>1</td>\n",
              "      <td>1000</td>\n",
              "      <td>1062</td>\n",
              "      <td>Calendar</td>\n",
              "      <td>2013</td>\n",
              "      <td>Public Protection</td>\n",
              "      <td>ADP</td>\n",
              "      <td>ADP Adult Probation</td>\n",
              "      <td>21</td>\n",
              "      <td>Prof &amp; Tech Engineers - Miscellaneous, Local 21</td>\n",
              "      <td>Information Systems</td>\n",
              "      <td>IS Programmer Analyst</td>\n",
              "      <td>37730</td>\n",
              "      <td>5084.00</td>\n",
              "      <td>0.0</td>\n",
              "      <td>0.00</td>\n",
              "      <td>5084.00</td>\n",
              "      <td>1083.90</td>\n",
              "      <td>956.91</td>\n",
              "      <td>387.50</td>\n",
              "      <td>2428.31</td>\n",
              "      <td>7512.31</td>\n",
              "    </tr>\n",
              "  </tbody>\n",
              "</table>\n",
              "</div>"
            ],
            "text/plain": [
              "   Organization Group Code Job Family Code  ... Total Benefits Total Compensation\n",
              "0                        1            1000  ...       27747.13           85281.78\n",
              "1                        1            1000  ...       22216.82           79895.32\n",
              "2                        1            1000  ...       30116.78           93649.71\n",
              "3                        1            1000  ...       40021.45          134237.37\n",
              "4                        1            1000  ...        2428.31            7512.31\n",
              "\n",
              "[5 rows x 22 columns]"
            ]
          },
          "metadata": {},
          "execution_count": 7
        }
      ]
    },
    {
      "cell_type": "markdown",
      "metadata": {
        "id": "9WBt5uV8J5Eb"
      },
      "source": [
        "**rows and columns in data**"
      ]
    },
    {
      "cell_type": "code",
      "metadata": {
        "colab": {
          "base_uri": "https://localhost:8080/"
        },
        "id": "L66s_hvEJ5Eb",
        "outputId": "63b9fb8c-a464-4291-e568-a210fa94b8ea"
      },
      "source": [
        "data.shape"
      ],
      "execution_count": 8,
      "outputs": [
        {
          "output_type": "execute_result",
          "data": {
            "text/plain": [
              "(120303, 22)"
            ]
          },
          "metadata": {},
          "execution_count": 8
        }
      ]
    },
    {
      "cell_type": "code",
      "metadata": {
        "colab": {
          "base_uri": "https://localhost:8080/"
        },
        "id": "oMwaVBe2J5Ec",
        "outputId": "92901935-fb4b-418f-d4f3-0c97edcfe9b4"
      },
      "source": [
        "data.info()"
      ],
      "execution_count": 9,
      "outputs": [
        {
          "output_type": "stream",
          "name": "stdout",
          "text": [
            "<class 'pandas.core.frame.DataFrame'>\n",
            "RangeIndex: 120303 entries, 0 to 120302\n",
            "Data columns (total 22 columns):\n",
            " #   Column                   Non-Null Count   Dtype  \n",
            "---  ------                   --------------   -----  \n",
            " 0   Organization Group Code  120303 non-null  int64  \n",
            " 1   Job Family Code          120303 non-null  object \n",
            " 2   Job Code                 120303 non-null  object \n",
            " 3   Year Type                120303 non-null  object \n",
            " 4   Year                     120303 non-null  int64  \n",
            " 5   Organization Group       120303 non-null  object \n",
            " 6   Department Code          120303 non-null  object \n",
            " 7   Department               120303 non-null  object \n",
            " 8   Union Code               120303 non-null  int64  \n",
            " 9   Union                    120303 non-null  object \n",
            " 10  Job Family               120303 non-null  object \n",
            " 11  Job                      120303 non-null  object \n",
            " 12  Employee Identifier      120303 non-null  int64  \n",
            " 13  Salaries                 120303 non-null  float64\n",
            " 14  Overtime                 120303 non-null  float64\n",
            " 15  Other Salaries           120303 non-null  float64\n",
            " 16  Total Salary             120303 non-null  float64\n",
            " 17  Retirement               120303 non-null  float64\n",
            " 18  Health and Dental        120303 non-null  float64\n",
            " 19  Other Benefits           120303 non-null  float64\n",
            " 20  Total Benefits           120303 non-null  float64\n",
            " 21  Total Compensation       120302 non-null  float64\n",
            "dtypes: float64(9), int64(4), object(9)\n",
            "memory usage: 20.2+ MB\n"
          ]
        }
      ]
    },
    {
      "cell_type": "code",
      "metadata": {
        "colab": {
          "base_uri": "https://localhost:8080/"
        },
        "id": "0iS22uQTJ5Ed",
        "outputId": "d5ef5511-2e62-4172-a0c8-18efd21ea010"
      },
      "source": [
        "data.dtypes"
      ],
      "execution_count": 10,
      "outputs": [
        {
          "output_type": "execute_result",
          "data": {
            "text/plain": [
              "Organization Group Code      int64\n",
              "Job Family Code             object\n",
              "Job Code                    object\n",
              "Year Type                   object\n",
              "Year                         int64\n",
              "Organization Group          object\n",
              "Department Code             object\n",
              "Department                  object\n",
              "Union Code                   int64\n",
              "Union                       object\n",
              "Job Family                  object\n",
              "Job                         object\n",
              "Employee Identifier          int64\n",
              "Salaries                   float64\n",
              "Overtime                   float64\n",
              "Other Salaries             float64\n",
              "Total Salary               float64\n",
              "Retirement                 float64\n",
              "Health and Dental          float64\n",
              "Other Benefits             float64\n",
              "Total Benefits             float64\n",
              "Total Compensation         float64\n",
              "dtype: object"
            ]
          },
          "metadata": {},
          "execution_count": 10
        }
      ]
    },
    {
      "cell_type": "code",
      "metadata": {
        "colab": {
          "base_uri": "https://localhost:8080/",
          "height": 450
        },
        "id": "zkTTPfi8J5Ee",
        "outputId": "48578814-4027-4446-caad-c99e0826d718"
      },
      "source": [
        "data.describe().T"
      ],
      "execution_count": 11,
      "outputs": [
        {
          "output_type": "execute_result",
          "data": {
            "text/html": [
              "<div>\n",
              "<style scoped>\n",
              "    .dataframe tbody tr th:only-of-type {\n",
              "        vertical-align: middle;\n",
              "    }\n",
              "\n",
              "    .dataframe tbody tr th {\n",
              "        vertical-align: top;\n",
              "    }\n",
              "\n",
              "    .dataframe thead th {\n",
              "        text-align: right;\n",
              "    }\n",
              "</style>\n",
              "<table border=\"1\" class=\"dataframe\">\n",
              "  <thead>\n",
              "    <tr style=\"text-align: right;\">\n",
              "      <th></th>\n",
              "      <th>count</th>\n",
              "      <th>mean</th>\n",
              "      <th>std</th>\n",
              "      <th>min</th>\n",
              "      <th>25%</th>\n",
              "      <th>50%</th>\n",
              "      <th>75%</th>\n",
              "      <th>max</th>\n",
              "    </tr>\n",
              "  </thead>\n",
              "  <tbody>\n",
              "    <tr>\n",
              "      <th>Organization Group Code</th>\n",
              "      <td>120303.0</td>\n",
              "      <td>2.873478</td>\n",
              "      <td>1.500265</td>\n",
              "      <td>1.00</td>\n",
              "      <td>2.000</td>\n",
              "      <td>2.000</td>\n",
              "      <td>4.000</td>\n",
              "      <td>7.00</td>\n",
              "    </tr>\n",
              "    <tr>\n",
              "      <th>Year</th>\n",
              "      <td>120303.0</td>\n",
              "      <td>2013.992286</td>\n",
              "      <td>0.809706</td>\n",
              "      <td>2013.00</td>\n",
              "      <td>2013.000</td>\n",
              "      <td>2014.000</td>\n",
              "      <td>2015.000</td>\n",
              "      <td>2015.00</td>\n",
              "    </tr>\n",
              "    <tr>\n",
              "      <th>Union Code</th>\n",
              "      <td>120303.0</td>\n",
              "      <td>490.422051</td>\n",
              "      <td>332.522988</td>\n",
              "      <td>1.00</td>\n",
              "      <td>250.000</td>\n",
              "      <td>535.000</td>\n",
              "      <td>790.000</td>\n",
              "      <td>990.00</td>\n",
              "    </tr>\n",
              "    <tr>\n",
              "      <th>Employee Identifier</th>\n",
              "      <td>120303.0</td>\n",
              "      <td>28567.281847</td>\n",
              "      <td>16479.297958</td>\n",
              "      <td>1.00</td>\n",
              "      <td>14268.000</td>\n",
              "      <td>28564.000</td>\n",
              "      <td>42917.000</td>\n",
              "      <td>56986.00</td>\n",
              "    </tr>\n",
              "    <tr>\n",
              "      <th>Salaries</th>\n",
              "      <td>120303.0</td>\n",
              "      <td>63574.766805</td>\n",
              "      <td>44288.775287</td>\n",
              "      <td>-2596.00</td>\n",
              "      <td>24335.470</td>\n",
              "      <td>62577.010</td>\n",
              "      <td>93459.825</td>\n",
              "      <td>339653.70</td>\n",
              "    </tr>\n",
              "    <tr>\n",
              "      <th>Overtime</th>\n",
              "      <td>120303.0</td>\n",
              "      <td>4517.180541</td>\n",
              "      <td>11203.512445</td>\n",
              "      <td>-1072.88</td>\n",
              "      <td>0.000</td>\n",
              "      <td>0.000</td>\n",
              "      <td>2961.705</td>\n",
              "      <td>208668.82</td>\n",
              "    </tr>\n",
              "    <tr>\n",
              "      <th>Other Salaries</th>\n",
              "      <td>120303.0</td>\n",
              "      <td>3906.869561</td>\n",
              "      <td>7863.155643</td>\n",
              "      <td>-7058.59</td>\n",
              "      <td>0.000</td>\n",
              "      <td>793.990</td>\n",
              "      <td>4851.760</td>\n",
              "      <td>342802.63</td>\n",
              "    </tr>\n",
              "    <tr>\n",
              "      <th>Total Salary</th>\n",
              "      <td>120303.0</td>\n",
              "      <td>71998.816906</td>\n",
              "      <td>52036.368639</td>\n",
              "      <td>-2596.00</td>\n",
              "      <td>26496.805</td>\n",
              "      <td>68111.840</td>\n",
              "      <td>103626.595</td>\n",
              "      <td>471952.64</td>\n",
              "    </tr>\n",
              "    <tr>\n",
              "      <th>Retirement</th>\n",
              "      <td>120303.0</td>\n",
              "      <td>13225.522029</td>\n",
              "      <td>9823.855914</td>\n",
              "      <td>-30621.43</td>\n",
              "      <td>4034.080</td>\n",
              "      <td>13407.530</td>\n",
              "      <td>19870.295</td>\n",
              "      <td>73203.06</td>\n",
              "    </tr>\n",
              "    <tr>\n",
              "      <th>Health and Dental</th>\n",
              "      <td>120303.0</td>\n",
              "      <td>8992.883826</td>\n",
              "      <td>4871.712257</td>\n",
              "      <td>-502.11</td>\n",
              "      <td>4519.020</td>\n",
              "      <td>11993.530</td>\n",
              "      <td>12918.240</td>\n",
              "      <td>21291.18</td>\n",
              "    </tr>\n",
              "    <tr>\n",
              "      <th>Other Benefits</th>\n",
              "      <td>120303.0</td>\n",
              "      <td>4626.866735</td>\n",
              "      <td>3708.190196</td>\n",
              "      <td>-10636.50</td>\n",
              "      <td>1635.680</td>\n",
              "      <td>4344.460</td>\n",
              "      <td>6790.260</td>\n",
              "      <td>33753.87</td>\n",
              "    </tr>\n",
              "    <tr>\n",
              "      <th>Total Benefits</th>\n",
              "      <td>120303.0</td>\n",
              "      <td>26845.272587</td>\n",
              "      <td>16723.726152</td>\n",
              "      <td>-21295.15</td>\n",
              "      <td>10280.045</td>\n",
              "      <td>30605.280</td>\n",
              "      <td>39047.575</td>\n",
              "      <td>105448.70</td>\n",
              "    </tr>\n",
              "    <tr>\n",
              "      <th>Total Compensation</th>\n",
              "      <td>120302.0</td>\n",
              "      <td>98844.873710</td>\n",
              "      <td>67486.415469</td>\n",
              "      <td>-8965.96</td>\n",
              "      <td>37804.030</td>\n",
              "      <td>98708.285</td>\n",
              "      <td>142753.705</td>\n",
              "      <td>510574.45</td>\n",
              "    </tr>\n",
              "  </tbody>\n",
              "</table>\n",
              "</div>"
            ],
            "text/plain": [
              "                            count          mean  ...         75%        max\n",
              "Organization Group Code  120303.0      2.873478  ...       4.000       7.00\n",
              "Year                     120303.0   2013.992286  ...    2015.000    2015.00\n",
              "Union Code               120303.0    490.422051  ...     790.000     990.00\n",
              "Employee Identifier      120303.0  28567.281847  ...   42917.000   56986.00\n",
              "Salaries                 120303.0  63574.766805  ...   93459.825  339653.70\n",
              "Overtime                 120303.0   4517.180541  ...    2961.705  208668.82\n",
              "Other Salaries           120303.0   3906.869561  ...    4851.760  342802.63\n",
              "Total Salary             120303.0  71998.816906  ...  103626.595  471952.64\n",
              "Retirement               120303.0  13225.522029  ...   19870.295   73203.06\n",
              "Health and Dental        120303.0   8992.883826  ...   12918.240   21291.18\n",
              "Other Benefits           120303.0   4626.866735  ...    6790.260   33753.87\n",
              "Total Benefits           120303.0  26845.272587  ...   39047.575  105448.70\n",
              "Total Compensation       120302.0  98844.873710  ...  142753.705  510574.45\n",
              "\n",
              "[13 rows x 8 columns]"
            ]
          },
          "metadata": {},
          "execution_count": 11
        }
      ]
    },
    {
      "cell_type": "markdown",
      "metadata": {
        "id": "9sVCGsobJ5Ef"
      },
      "source": [
        "**Finding any null values in data**"
      ]
    },
    {
      "cell_type": "code",
      "metadata": {
        "colab": {
          "base_uri": "https://localhost:8080/"
        },
        "id": "u-vptowRJ5Ef",
        "outputId": "1f495d28-a4c0-4db6-9f16-8671ab5c9027"
      },
      "source": [
        "data.isnull().sum()"
      ],
      "execution_count": 12,
      "outputs": [
        {
          "output_type": "execute_result",
          "data": {
            "text/plain": [
              "Organization Group Code    0\n",
              "Job Family Code            0\n",
              "Job Code                   0\n",
              "Year Type                  0\n",
              "Year                       0\n",
              "Organization Group         0\n",
              "Department Code            0\n",
              "Department                 0\n",
              "Union Code                 0\n",
              "Union                      0\n",
              "Job Family                 0\n",
              "Job                        0\n",
              "Employee Identifier        0\n",
              "Salaries                   0\n",
              "Overtime                   0\n",
              "Other Salaries             0\n",
              "Total Salary               0\n",
              "Retirement                 0\n",
              "Health and Dental          0\n",
              "Other Benefits             0\n",
              "Total Benefits             0\n",
              "Total Compensation         1\n",
              "dtype: int64"
            ]
          },
          "metadata": {},
          "execution_count": 12
        }
      ]
    },
    {
      "cell_type": "markdown",
      "metadata": {
        "id": "EQiT89moJ5Eg"
      },
      "source": [
        "**Eliminating the null values**"
      ]
    },
    {
      "cell_type": "code",
      "metadata": {
        "colab": {
          "base_uri": "https://localhost:8080/"
        },
        "id": "Fa70njYJJ5Eg",
        "outputId": "0101d41d-d408-4223-a202-08ece12a8b30"
      },
      "source": [
        "df = data.dropna()\n",
        "df.isna().sum()"
      ],
      "execution_count": 13,
      "outputs": [
        {
          "output_type": "execute_result",
          "data": {
            "text/plain": [
              "Organization Group Code    0\n",
              "Job Family Code            0\n",
              "Job Code                   0\n",
              "Year Type                  0\n",
              "Year                       0\n",
              "Organization Group         0\n",
              "Department Code            0\n",
              "Department                 0\n",
              "Union Code                 0\n",
              "Union                      0\n",
              "Job Family                 0\n",
              "Job                        0\n",
              "Employee Identifier        0\n",
              "Salaries                   0\n",
              "Overtime                   0\n",
              "Other Salaries             0\n",
              "Total Salary               0\n",
              "Retirement                 0\n",
              "Health and Dental          0\n",
              "Other Benefits             0\n",
              "Total Benefits             0\n",
              "Total Compensation         0\n",
              "dtype: int64"
            ]
          },
          "metadata": {},
          "execution_count": 13
        }
      ]
    },
    {
      "cell_type": "markdown",
      "metadata": {
        "id": "3rKCjloXJ5Eh"
      },
      "source": [
        "Total salary is the sum of salries and other salaries so we can drop these two columns"
      ]
    },
    {
      "cell_type": "code",
      "metadata": {
        "colab": {
          "base_uri": "https://localhost:8080/"
        },
        "id": "dD5Fu0SaJ5Eh",
        "outputId": "4a2ea057-2021-424a-ce90-86cdd7b39971"
      },
      "source": [
        "df.drop('Other Salaries', axis='columns',inplace=True)\n"
      ],
      "execution_count": 14,
      "outputs": [
        {
          "output_type": "stream",
          "name": "stderr",
          "text": [
            "/usr/local/lib/python3.7/dist-packages/pandas/core/frame.py:4174: SettingWithCopyWarning: \n",
            "A value is trying to be set on a copy of a slice from a DataFrame\n",
            "\n",
            "See the caveats in the documentation: https://pandas.pydata.org/pandas-docs/stable/user_guide/indexing.html#returning-a-view-versus-a-copy\n",
            "  errors=errors,\n"
          ]
        }
      ]
    },
    {
      "cell_type": "code",
      "metadata": {
        "colab": {
          "base_uri": "https://localhost:8080/"
        },
        "id": "L0CrdL3xJ5Ei",
        "outputId": "0f45b3ac-eba3-4e83-dced-2e3f702651e9"
      },
      "source": [
        "df.drop('Salaries',axis='columns',inplace=True)"
      ],
      "execution_count": 15,
      "outputs": [
        {
          "output_type": "stream",
          "name": "stderr",
          "text": [
            "/usr/local/lib/python3.7/dist-packages/pandas/core/frame.py:4174: SettingWithCopyWarning: \n",
            "A value is trying to be set on a copy of a slice from a DataFrame\n",
            "\n",
            "See the caveats in the documentation: https://pandas.pydata.org/pandas-docs/stable/user_guide/indexing.html#returning-a-view-versus-a-copy\n",
            "  errors=errors,\n"
          ]
        }
      ]
    },
    {
      "cell_type": "markdown",
      "metadata": {
        "id": "aPvOXRi6J5Ei"
      },
      "source": [
        "organisation group and organisation group code is same so we can delete one of them"
      ]
    },
    {
      "cell_type": "code",
      "metadata": {
        "colab": {
          "base_uri": "https://localhost:8080/"
        },
        "id": "jmujrxdxJ5Ei",
        "outputId": "5ba168c8-d52b-4b41-9bbe-29e822b7bfa3"
      },
      "source": [
        "df.drop('Organization Group',axis='columns',inplace=True)"
      ],
      "execution_count": 16,
      "outputs": [
        {
          "output_type": "stream",
          "name": "stderr",
          "text": [
            "/usr/local/lib/python3.7/dist-packages/pandas/core/frame.py:4174: SettingWithCopyWarning: \n",
            "A value is trying to be set on a copy of a slice from a DataFrame\n",
            "\n",
            "See the caveats in the documentation: https://pandas.pydata.org/pandas-docs/stable/user_guide/indexing.html#returning-a-view-versus-a-copy\n",
            "  errors=errors,\n"
          ]
        }
      ]
    },
    {
      "cell_type": "code",
      "metadata": {
        "colab": {
          "base_uri": "https://localhost:8080/"
        },
        "id": "JWDkf5YYJ5Ej",
        "outputId": "cb6bf2a8-d208-4b31-c447-60291f4aff7a"
      },
      "source": [
        "df.drop('Year Type',axis='columns',inplace=True)\n"
      ],
      "execution_count": 17,
      "outputs": [
        {
          "output_type": "stream",
          "name": "stderr",
          "text": [
            "/usr/local/lib/python3.7/dist-packages/pandas/core/frame.py:4174: SettingWithCopyWarning: \n",
            "A value is trying to be set on a copy of a slice from a DataFrame\n",
            "\n",
            "See the caveats in the documentation: https://pandas.pydata.org/pandas-docs/stable/user_guide/indexing.html#returning-a-view-versus-a-copy\n",
            "  errors=errors,\n"
          ]
        }
      ]
    },
    {
      "cell_type": "code",
      "metadata": {
        "colab": {
          "base_uri": "https://localhost:8080/",
          "height": 509
        },
        "id": "cXv4dwRYJ5Ek",
        "outputId": "8ac8171a-0834-414f-ac63-835992626d64"
      },
      "source": [
        "df.head()"
      ],
      "execution_count": 18,
      "outputs": [
        {
          "output_type": "execute_result",
          "data": {
            "text/html": [
              "<div>\n",
              "<style scoped>\n",
              "    .dataframe tbody tr th:only-of-type {\n",
              "        vertical-align: middle;\n",
              "    }\n",
              "\n",
              "    .dataframe tbody tr th {\n",
              "        vertical-align: top;\n",
              "    }\n",
              "\n",
              "    .dataframe thead th {\n",
              "        text-align: right;\n",
              "    }\n",
              "</style>\n",
              "<table border=\"1\" class=\"dataframe\">\n",
              "  <thead>\n",
              "    <tr style=\"text-align: right;\">\n",
              "      <th></th>\n",
              "      <th>Organization Group Code</th>\n",
              "      <th>Job Family Code</th>\n",
              "      <th>Job Code</th>\n",
              "      <th>Year</th>\n",
              "      <th>Department Code</th>\n",
              "      <th>Department</th>\n",
              "      <th>Union Code</th>\n",
              "      <th>Union</th>\n",
              "      <th>Job Family</th>\n",
              "      <th>Job</th>\n",
              "      <th>Employee Identifier</th>\n",
              "      <th>Overtime</th>\n",
              "      <th>Total Salary</th>\n",
              "      <th>Retirement</th>\n",
              "      <th>Health and Dental</th>\n",
              "      <th>Other Benefits</th>\n",
              "      <th>Total Benefits</th>\n",
              "      <th>Total Compensation</th>\n",
              "    </tr>\n",
              "  </thead>\n",
              "  <tbody>\n",
              "    <tr>\n",
              "      <th>0</th>\n",
              "      <td>1</td>\n",
              "      <td>1000</td>\n",
              "      <td>1021</td>\n",
              "      <td>2013</td>\n",
              "      <td>ADP</td>\n",
              "      <td>ADP Adult Probation</td>\n",
              "      <td>21</td>\n",
              "      <td>Prof &amp; Tech Engineers - Miscellaneous, Local 21</td>\n",
              "      <td>Information Systems</td>\n",
              "      <td>IS Administrator 1</td>\n",
              "      <td>37730</td>\n",
              "      <td>0.0</td>\n",
              "      <td>57534.65</td>\n",
              "      <td>11253.16</td>\n",
              "      <td>11961.34</td>\n",
              "      <td>4532.63</td>\n",
              "      <td>27747.13</td>\n",
              "      <td>85281.78</td>\n",
              "    </tr>\n",
              "    <tr>\n",
              "      <th>1</th>\n",
              "      <td>1</td>\n",
              "      <td>1000</td>\n",
              "      <td>1023</td>\n",
              "      <td>2013</td>\n",
              "      <td>ADP</td>\n",
              "      <td>ADP Adult Probation</td>\n",
              "      <td>21</td>\n",
              "      <td>Prof &amp; Tech Engineers - Miscellaneous, Local 21</td>\n",
              "      <td>Information Systems</td>\n",
              "      <td>IS Administrator 3</td>\n",
              "      <td>26574</td>\n",
              "      <td>0.0</td>\n",
              "      <td>57678.50</td>\n",
              "      <td>10284.88</td>\n",
              "      <td>7176.80</td>\n",
              "      <td>4755.14</td>\n",
              "      <td>22216.82</td>\n",
              "      <td>79895.32</td>\n",
              "    </tr>\n",
              "    <tr>\n",
              "      <th>2</th>\n",
              "      <td>1</td>\n",
              "      <td>1000</td>\n",
              "      <td>1031</td>\n",
              "      <td>2013</td>\n",
              "      <td>ADP</td>\n",
              "      <td>ADP Adult Probation</td>\n",
              "      <td>21</td>\n",
              "      <td>Prof &amp; Tech Engineers - Miscellaneous, Local 21</td>\n",
              "      <td>Information Systems</td>\n",
              "      <td>IS Trainer-Assistant</td>\n",
              "      <td>8148</td>\n",
              "      <td>0.0</td>\n",
              "      <td>63532.93</td>\n",
              "      <td>12495.83</td>\n",
              "      <td>12918.24</td>\n",
              "      <td>4702.71</td>\n",
              "      <td>30116.78</td>\n",
              "      <td>93649.71</td>\n",
              "    </tr>\n",
              "    <tr>\n",
              "      <th>3</th>\n",
              "      <td>1</td>\n",
              "      <td>1000</td>\n",
              "      <td>1054</td>\n",
              "      <td>2013</td>\n",
              "      <td>ADP</td>\n",
              "      <td>ADP Adult Probation</td>\n",
              "      <td>21</td>\n",
              "      <td>Prof &amp; Tech Engineers - Miscellaneous, Local 21</td>\n",
              "      <td>Information Systems</td>\n",
              "      <td>IS Business Analyst-Principal</td>\n",
              "      <td>27436</td>\n",
              "      <td>0.0</td>\n",
              "      <td>94215.92</td>\n",
              "      <td>19644.45</td>\n",
              "      <td>12918.24</td>\n",
              "      <td>7458.76</td>\n",
              "      <td>40021.45</td>\n",
              "      <td>134237.37</td>\n",
              "    </tr>\n",
              "    <tr>\n",
              "      <th>4</th>\n",
              "      <td>1</td>\n",
              "      <td>1000</td>\n",
              "      <td>1062</td>\n",
              "      <td>2013</td>\n",
              "      <td>ADP</td>\n",
              "      <td>ADP Adult Probation</td>\n",
              "      <td>21</td>\n",
              "      <td>Prof &amp; Tech Engineers - Miscellaneous, Local 21</td>\n",
              "      <td>Information Systems</td>\n",
              "      <td>IS Programmer Analyst</td>\n",
              "      <td>37730</td>\n",
              "      <td>0.0</td>\n",
              "      <td>5084.00</td>\n",
              "      <td>1083.90</td>\n",
              "      <td>956.91</td>\n",
              "      <td>387.50</td>\n",
              "      <td>2428.31</td>\n",
              "      <td>7512.31</td>\n",
              "    </tr>\n",
              "  </tbody>\n",
              "</table>\n",
              "</div>"
            ],
            "text/plain": [
              "   Organization Group Code Job Family Code  ... Total Benefits  Total Compensation\n",
              "0                        1            1000  ...       27747.13            85281.78\n",
              "1                        1            1000  ...       22216.82            79895.32\n",
              "2                        1            1000  ...       30116.78            93649.71\n",
              "3                        1            1000  ...       40021.45           134237.37\n",
              "4                        1            1000  ...        2428.31             7512.31\n",
              "\n",
              "[5 rows x 18 columns]"
            ]
          },
          "metadata": {},
          "execution_count": 18
        }
      ]
    },
    {
      "cell_type": "code",
      "metadata": {
        "colab": {
          "base_uri": "https://localhost:8080/",
          "height": 509
        },
        "id": "63LPgksXJ5Ek",
        "outputId": "a2640a59-2752-47aa-d8db-68d5e4780f57"
      },
      "source": [
        "df.tail()"
      ],
      "execution_count": 19,
      "outputs": [
        {
          "output_type": "execute_result",
          "data": {
            "text/html": [
              "<div>\n",
              "<style scoped>\n",
              "    .dataframe tbody tr th:only-of-type {\n",
              "        vertical-align: middle;\n",
              "    }\n",
              "\n",
              "    .dataframe tbody tr th {\n",
              "        vertical-align: top;\n",
              "    }\n",
              "\n",
              "    .dataframe thead th {\n",
              "        text-align: right;\n",
              "    }\n",
              "</style>\n",
              "<table border=\"1\" class=\"dataframe\">\n",
              "  <thead>\n",
              "    <tr style=\"text-align: right;\">\n",
              "      <th></th>\n",
              "      <th>Organization Group Code</th>\n",
              "      <th>Job Family Code</th>\n",
              "      <th>Job Code</th>\n",
              "      <th>Year</th>\n",
              "      <th>Department Code</th>\n",
              "      <th>Department</th>\n",
              "      <th>Union Code</th>\n",
              "      <th>Union</th>\n",
              "      <th>Job Family</th>\n",
              "      <th>Job</th>\n",
              "      <th>Employee Identifier</th>\n",
              "      <th>Overtime</th>\n",
              "      <th>Total Salary</th>\n",
              "      <th>Retirement</th>\n",
              "      <th>Health and Dental</th>\n",
              "      <th>Other Benefits</th>\n",
              "      <th>Total Benefits</th>\n",
              "      <th>Total Compensation</th>\n",
              "    </tr>\n",
              "  </thead>\n",
              "  <tbody>\n",
              "    <tr>\n",
              "      <th>120297</th>\n",
              "      <td>5</td>\n",
              "      <td>9900</td>\n",
              "      <td>9910</td>\n",
              "      <td>2015</td>\n",
              "      <td>REC</td>\n",
              "      <td>REC Recreation &amp; Park Commsn</td>\n",
              "      <td>790</td>\n",
              "      <td>SEIU - Miscellaneous, Local 1021</td>\n",
              "      <td>Public Service Aide</td>\n",
              "      <td>Public Service Trainee</td>\n",
              "      <td>532</td>\n",
              "      <td>0.0</td>\n",
              "      <td>1745.39</td>\n",
              "      <td>0.0</td>\n",
              "      <td>848.21</td>\n",
              "      <td>135.42</td>\n",
              "      <td>983.63</td>\n",
              "      <td>2729.02</td>\n",
              "    </tr>\n",
              "    <tr>\n",
              "      <th>120298</th>\n",
              "      <td>5</td>\n",
              "      <td>9900</td>\n",
              "      <td>9910</td>\n",
              "      <td>2015</td>\n",
              "      <td>REC</td>\n",
              "      <td>REC Recreation &amp; Park Commsn</td>\n",
              "      <td>790</td>\n",
              "      <td>SEIU - Miscellaneous, Local 1021</td>\n",
              "      <td>Public Service Aide</td>\n",
              "      <td>Public Service Trainee</td>\n",
              "      <td>53454</td>\n",
              "      <td>0.0</td>\n",
              "      <td>2633.63</td>\n",
              "      <td>0.0</td>\n",
              "      <td>1282.29</td>\n",
              "      <td>204.23</td>\n",
              "      <td>1486.52</td>\n",
              "      <td>4120.15</td>\n",
              "    </tr>\n",
              "    <tr>\n",
              "      <th>120299</th>\n",
              "      <td>5</td>\n",
              "      <td>9900</td>\n",
              "      <td>9910</td>\n",
              "      <td>2015</td>\n",
              "      <td>REC</td>\n",
              "      <td>REC Recreation &amp; Park Commsn</td>\n",
              "      <td>790</td>\n",
              "      <td>SEIU - Miscellaneous, Local 1021</td>\n",
              "      <td>Public Service Aide</td>\n",
              "      <td>Public Service Trainee</td>\n",
              "      <td>53458</td>\n",
              "      <td>0.0</td>\n",
              "      <td>1373.23</td>\n",
              "      <td>0.0</td>\n",
              "      <td>666.03</td>\n",
              "      <td>106.58</td>\n",
              "      <td>772.61</td>\n",
              "      <td>2145.84</td>\n",
              "    </tr>\n",
              "    <tr>\n",
              "      <th>120300</th>\n",
              "      <td>5</td>\n",
              "      <td>9900</td>\n",
              "      <td>9910</td>\n",
              "      <td>2015</td>\n",
              "      <td>REC</td>\n",
              "      <td>REC Recreation &amp; Park Commsn</td>\n",
              "      <td>790</td>\n",
              "      <td>SEIU - Miscellaneous, Local 1021</td>\n",
              "      <td>Public Service Aide</td>\n",
              "      <td>Public Service Trainee</td>\n",
              "      <td>53464</td>\n",
              "      <td>0.0</td>\n",
              "      <td>127.40</td>\n",
              "      <td>0.0</td>\n",
              "      <td>59.73</td>\n",
              "      <td>9.89</td>\n",
              "      <td>69.62</td>\n",
              "      <td>197.02</td>\n",
              "    </tr>\n",
              "    <tr>\n",
              "      <th>120301</th>\n",
              "      <td>5</td>\n",
              "      <td>9900</td>\n",
              "      <td>9910</td>\n",
              "      <td>2015</td>\n",
              "      <td>REC</td>\n",
              "      <td>REC Recreation &amp; Park Commsn</td>\n",
              "      <td>790</td>\n",
              "      <td>SEIU - Miscellaneous, Local 1021</td>\n",
              "      <td>Public Service Aide</td>\n",
              "      <td>Public Service Trainee</td>\n",
              "      <td>53558</td>\n",
              "      <td>0.0</td>\n",
              "      <td>7297.20</td>\n",
              "      <td>0.0</td>\n",
              "      <td>2903.03</td>\n",
              "      <td>564.98</td>\n",
              "      <td>3468.01</td>\n",
              "      <td>10765.21</td>\n",
              "    </tr>\n",
              "  </tbody>\n",
              "</table>\n",
              "</div>"
            ],
            "text/plain": [
              "        Organization Group Code  ... Total Compensation\n",
              "120297                        5  ...            2729.02\n",
              "120298                        5  ...            4120.15\n",
              "120299                        5  ...            2145.84\n",
              "120300                        5  ...             197.02\n",
              "120301                        5  ...           10765.21\n",
              "\n",
              "[5 rows x 18 columns]"
            ]
          },
          "metadata": {},
          "execution_count": 19
        }
      ]
    },
    {
      "cell_type": "code",
      "metadata": {
        "colab": {
          "base_uri": "https://localhost:8080/"
        },
        "id": "HiMI1ENaJ5Ek",
        "outputId": "66773517-7163-443b-bb24-f630f119e400"
      },
      "source": [
        "df['Total Benefits']=df['Other Benefits']+df['Health and Dental']+df['Retirement']\n",
        "df['Total Benefits']"
      ],
      "execution_count": 20,
      "outputs": [
        {
          "output_type": "stream",
          "name": "stderr",
          "text": [
            "/usr/local/lib/python3.7/dist-packages/ipykernel_launcher.py:1: SettingWithCopyWarning: \n",
            "A value is trying to be set on a copy of a slice from a DataFrame.\n",
            "Try using .loc[row_indexer,col_indexer] = value instead\n",
            "\n",
            "See the caveats in the documentation: https://pandas.pydata.org/pandas-docs/stable/user_guide/indexing.html#returning-a-view-versus-a-copy\n",
            "  \"\"\"Entry point for launching an IPython kernel.\n"
          ]
        },
        {
          "output_type": "execute_result",
          "data": {
            "text/plain": [
              "0         27747.13\n",
              "1         22216.82\n",
              "2         30116.78\n",
              "3         40021.45\n",
              "4          2428.31\n",
              "            ...   \n",
              "120297      983.63\n",
              "120298     1486.52\n",
              "120299      772.61\n",
              "120300       69.62\n",
              "120301     3468.01\n",
              "Name: Total Benefits, Length: 120302, dtype: float64"
            ]
          },
          "metadata": {},
          "execution_count": 20
        }
      ]
    },
    {
      "cell_type": "code",
      "metadata": {
        "colab": {
          "base_uri": "https://localhost:8080/",
          "height": 593
        },
        "id": "IE5nz3e0J5El",
        "outputId": "43200eb1-96c6-4f99-b83a-258a0acb6353"
      },
      "source": [
        "df.drop('Total Benefits',axis='columns',inplace=True)\n",
        "df.head()"
      ],
      "execution_count": 21,
      "outputs": [
        {
          "output_type": "stream",
          "name": "stderr",
          "text": [
            "/usr/local/lib/python3.7/dist-packages/pandas/core/frame.py:4174: SettingWithCopyWarning: \n",
            "A value is trying to be set on a copy of a slice from a DataFrame\n",
            "\n",
            "See the caveats in the documentation: https://pandas.pydata.org/pandas-docs/stable/user_guide/indexing.html#returning-a-view-versus-a-copy\n",
            "  errors=errors,\n"
          ]
        },
        {
          "output_type": "execute_result",
          "data": {
            "text/html": [
              "<div>\n",
              "<style scoped>\n",
              "    .dataframe tbody tr th:only-of-type {\n",
              "        vertical-align: middle;\n",
              "    }\n",
              "\n",
              "    .dataframe tbody tr th {\n",
              "        vertical-align: top;\n",
              "    }\n",
              "\n",
              "    .dataframe thead th {\n",
              "        text-align: right;\n",
              "    }\n",
              "</style>\n",
              "<table border=\"1\" class=\"dataframe\">\n",
              "  <thead>\n",
              "    <tr style=\"text-align: right;\">\n",
              "      <th></th>\n",
              "      <th>Organization Group Code</th>\n",
              "      <th>Job Family Code</th>\n",
              "      <th>Job Code</th>\n",
              "      <th>Year</th>\n",
              "      <th>Department Code</th>\n",
              "      <th>Department</th>\n",
              "      <th>Union Code</th>\n",
              "      <th>Union</th>\n",
              "      <th>Job Family</th>\n",
              "      <th>Job</th>\n",
              "      <th>Employee Identifier</th>\n",
              "      <th>Overtime</th>\n",
              "      <th>Total Salary</th>\n",
              "      <th>Retirement</th>\n",
              "      <th>Health and Dental</th>\n",
              "      <th>Other Benefits</th>\n",
              "      <th>Total Compensation</th>\n",
              "    </tr>\n",
              "  </thead>\n",
              "  <tbody>\n",
              "    <tr>\n",
              "      <th>0</th>\n",
              "      <td>1</td>\n",
              "      <td>1000</td>\n",
              "      <td>1021</td>\n",
              "      <td>2013</td>\n",
              "      <td>ADP</td>\n",
              "      <td>ADP Adult Probation</td>\n",
              "      <td>21</td>\n",
              "      <td>Prof &amp; Tech Engineers - Miscellaneous, Local 21</td>\n",
              "      <td>Information Systems</td>\n",
              "      <td>IS Administrator 1</td>\n",
              "      <td>37730</td>\n",
              "      <td>0.0</td>\n",
              "      <td>57534.65</td>\n",
              "      <td>11253.16</td>\n",
              "      <td>11961.34</td>\n",
              "      <td>4532.63</td>\n",
              "      <td>85281.78</td>\n",
              "    </tr>\n",
              "    <tr>\n",
              "      <th>1</th>\n",
              "      <td>1</td>\n",
              "      <td>1000</td>\n",
              "      <td>1023</td>\n",
              "      <td>2013</td>\n",
              "      <td>ADP</td>\n",
              "      <td>ADP Adult Probation</td>\n",
              "      <td>21</td>\n",
              "      <td>Prof &amp; Tech Engineers - Miscellaneous, Local 21</td>\n",
              "      <td>Information Systems</td>\n",
              "      <td>IS Administrator 3</td>\n",
              "      <td>26574</td>\n",
              "      <td>0.0</td>\n",
              "      <td>57678.50</td>\n",
              "      <td>10284.88</td>\n",
              "      <td>7176.80</td>\n",
              "      <td>4755.14</td>\n",
              "      <td>79895.32</td>\n",
              "    </tr>\n",
              "    <tr>\n",
              "      <th>2</th>\n",
              "      <td>1</td>\n",
              "      <td>1000</td>\n",
              "      <td>1031</td>\n",
              "      <td>2013</td>\n",
              "      <td>ADP</td>\n",
              "      <td>ADP Adult Probation</td>\n",
              "      <td>21</td>\n",
              "      <td>Prof &amp; Tech Engineers - Miscellaneous, Local 21</td>\n",
              "      <td>Information Systems</td>\n",
              "      <td>IS Trainer-Assistant</td>\n",
              "      <td>8148</td>\n",
              "      <td>0.0</td>\n",
              "      <td>63532.93</td>\n",
              "      <td>12495.83</td>\n",
              "      <td>12918.24</td>\n",
              "      <td>4702.71</td>\n",
              "      <td>93649.71</td>\n",
              "    </tr>\n",
              "    <tr>\n",
              "      <th>3</th>\n",
              "      <td>1</td>\n",
              "      <td>1000</td>\n",
              "      <td>1054</td>\n",
              "      <td>2013</td>\n",
              "      <td>ADP</td>\n",
              "      <td>ADP Adult Probation</td>\n",
              "      <td>21</td>\n",
              "      <td>Prof &amp; Tech Engineers - Miscellaneous, Local 21</td>\n",
              "      <td>Information Systems</td>\n",
              "      <td>IS Business Analyst-Principal</td>\n",
              "      <td>27436</td>\n",
              "      <td>0.0</td>\n",
              "      <td>94215.92</td>\n",
              "      <td>19644.45</td>\n",
              "      <td>12918.24</td>\n",
              "      <td>7458.76</td>\n",
              "      <td>134237.37</td>\n",
              "    </tr>\n",
              "    <tr>\n",
              "      <th>4</th>\n",
              "      <td>1</td>\n",
              "      <td>1000</td>\n",
              "      <td>1062</td>\n",
              "      <td>2013</td>\n",
              "      <td>ADP</td>\n",
              "      <td>ADP Adult Probation</td>\n",
              "      <td>21</td>\n",
              "      <td>Prof &amp; Tech Engineers - Miscellaneous, Local 21</td>\n",
              "      <td>Information Systems</td>\n",
              "      <td>IS Programmer Analyst</td>\n",
              "      <td>37730</td>\n",
              "      <td>0.0</td>\n",
              "      <td>5084.00</td>\n",
              "      <td>1083.90</td>\n",
              "      <td>956.91</td>\n",
              "      <td>387.50</td>\n",
              "      <td>7512.31</td>\n",
              "    </tr>\n",
              "  </tbody>\n",
              "</table>\n",
              "</div>"
            ],
            "text/plain": [
              "   Organization Group Code Job Family Code  ... Other Benefits  Total Compensation\n",
              "0                        1            1000  ...        4532.63            85281.78\n",
              "1                        1            1000  ...        4755.14            79895.32\n",
              "2                        1            1000  ...        4702.71            93649.71\n",
              "3                        1            1000  ...        7458.76           134237.37\n",
              "4                        1            1000  ...         387.50             7512.31\n",
              "\n",
              "[5 rows x 17 columns]"
            ]
          },
          "metadata": {},
          "execution_count": 21
        }
      ]
    },
    {
      "cell_type": "markdown",
      "metadata": {
        "id": "qfydlI1-J5El"
      },
      "source": [
        "**Checking inique values in each columns**"
      ]
    },
    {
      "cell_type": "code",
      "metadata": {
        "colab": {
          "base_uri": "https://localhost:8080/"
        },
        "id": "MAT07saOJ5El",
        "outputId": "2633da12-5e0a-4b15-970d-967ae9255bc3"
      },
      "source": [
        "cols=df.columns\n",
        "for i in cols:\n",
        "  print(i, 'has :', df[i].nunique(), 'Unique Values')"
      ],
      "execution_count": 22,
      "outputs": [
        {
          "output_type": "stream",
          "name": "stdout",
          "text": [
            "Organization Group Code has : 7 Unique Values\n",
            "Job Family Code has : 56 Unique Values\n",
            "Job Code has : 1105 Unique Values\n",
            "Year has : 3 Unique Values\n",
            "Department Code has : 54 Unique Values\n",
            "Department has : 54 Unique Values\n",
            "Union Code has : 69 Unique Values\n",
            "Union has : 72 Unique Values\n",
            "Job Family has : 55 Unique Values\n",
            "Job has : 1112 Unique Values\n",
            "Employee Identifier has : 46881 Unique Values\n",
            "Overtime has : 48615 Unique Values\n",
            "Total Salary has : 112218 Unique Values\n",
            "Retirement has : 86395 Unique Values\n",
            "Health and Dental has : 39556 Unique Values\n",
            "Other Benefits has : 109743 Unique Values\n",
            "Total Compensation has : 118221 Unique Values\n"
          ]
        }
      ]
    },
    {
      "cell_type": "code",
      "metadata": {
        "colab": {
          "base_uri": "https://localhost:8080/",
          "height": 344
        },
        "id": "H1WH_e_dJ5Em",
        "outputId": "82a974b6-f575-49ec-8bb4-b2d9088f685c"
      },
      "source": [
        "sns.distplot(df['Total Compensation'])\n",
        "plt.show()"
      ],
      "execution_count": 23,
      "outputs": [
        {
          "output_type": "stream",
          "name": "stderr",
          "text": [
            "/usr/local/lib/python3.7/dist-packages/seaborn/distributions.py:2619: FutureWarning: `distplot` is a deprecated function and will be removed in a future version. Please adapt your code to use either `displot` (a figure-level function with similar flexibility) or `histplot` (an axes-level function for histograms).\n",
            "  warnings.warn(msg, FutureWarning)\n"
          ]
        },
        {
          "output_type": "display_data",
          "data": {
            "image/png": "[encoded data removed]",
            "text/plain": [
              "<Figure size 432x288 with 1 Axes>"
            ]
          },
          "metadata": {
            "needs_background": "light"
          }
        }
      ]
    },
    {
      "cell_type": "code",
      "metadata": {
        "colab": {
          "base_uri": "https://localhost:8080/"
        },
        "id": "dWA_z41zJ5Em",
        "outputId": "d315edef-7a3b-4a02-dc02-14e3bc04fe80"
      },
      "source": [
        "\n",
        "print(\"Skewness: %f\" % df['Total Compensation'].skew())\n",
        "print(\"Kurtosis: %f\" % df['Total Compensation'].kurt())\n"
      ],
      "execution_count": 24,
      "outputs": [
        {
          "output_type": "stream",
          "name": "stdout",
          "text": [
            "Skewness: 0.409321\n",
            "Kurtosis: -0.250681\n"
          ]
        }
      ]
    },
    {
      "cell_type": "code",
      "metadata": {
        "colab": {
          "base_uri": "https://localhost:8080/",
          "height": 220
        },
        "id": "nLJ1cpA3J5Em",
        "outputId": "9a660340-57ea-4b09-8102-bc07560f9e85"
      },
      "source": [
        "df1=df.select_dtypes(include=('int64','float64'))\n",
        "df1.head()"
      ],
      "execution_count": 25,
      "outputs": [
        {
          "output_type": "execute_result",
          "data": {
            "text/html": [
              "<div>\n",
              "<style scoped>\n",
              "    .dataframe tbody tr th:only-of-type {\n",
              "        vertical-align: middle;\n",
              "    }\n",
              "\n",
              "    .dataframe tbody tr th {\n",
              "        vertical-align: top;\n",
              "    }\n",
              "\n",
              "    .dataframe thead th {\n",
              "        text-align: right;\n",
              "    }\n",
              "</style>\n",
              "<table border=\"1\" class=\"dataframe\">\n",
              "  <thead>\n",
              "    <tr style=\"text-align: right;\">\n",
              "      <th></th>\n",
              "      <th>Organization Group Code</th>\n",
              "      <th>Year</th>\n",
              "      <th>Union Code</th>\n",
              "      <th>Employee Identifier</th>\n",
              "      <th>Overtime</th>\n",
              "      <th>Total Salary</th>\n",
              "      <th>Retirement</th>\n",
              "      <th>Health and Dental</th>\n",
              "      <th>Other Benefits</th>\n",
              "      <th>Total Compensation</th>\n",
              "    </tr>\n",
              "  </thead>\n",
              "  <tbody>\n",
              "    <tr>\n",
              "      <th>0</th>\n",
              "      <td>1</td>\n",
              "      <td>2013</td>\n",
              "      <td>21</td>\n",
              "      <td>37730</td>\n",
              "      <td>0.0</td>\n",
              "      <td>57534.65</td>\n",
              "      <td>11253.16</td>\n",
              "      <td>11961.34</td>\n",
              "      <td>4532.63</td>\n",
              "      <td>85281.78</td>\n",
              "    </tr>\n",
              "    <tr>\n",
              "      <th>1</th>\n",
              "      <td>1</td>\n",
              "      <td>2013</td>\n",
              "      <td>21</td>\n",
              "      <td>26574</td>\n",
              "      <td>0.0</td>\n",
              "      <td>57678.50</td>\n",
              "      <td>10284.88</td>\n",
              "      <td>7176.80</td>\n",
              "      <td>4755.14</td>\n",
              "      <td>79895.32</td>\n",
              "    </tr>\n",
              "    <tr>\n",
              "      <th>2</th>\n",
              "      <td>1</td>\n",
              "      <td>2013</td>\n",
              "      <td>21</td>\n",
              "      <td>8148</td>\n",
              "      <td>0.0</td>\n",
              "      <td>63532.93</td>\n",
              "      <td>12495.83</td>\n",
              "      <td>12918.24</td>\n",
              "      <td>4702.71</td>\n",
              "      <td>93649.71</td>\n",
              "    </tr>\n",
              "    <tr>\n",
              "      <th>3</th>\n",
              "      <td>1</td>\n",
              "      <td>2013</td>\n",
              "      <td>21</td>\n",
              "      <td>27436</td>\n",
              "      <td>0.0</td>\n",
              "      <td>94215.92</td>\n",
              "      <td>19644.45</td>\n",
              "      <td>12918.24</td>\n",
              "      <td>7458.76</td>\n",
              "      <td>134237.37</td>\n",
              "    </tr>\n",
              "    <tr>\n",
              "      <th>4</th>\n",
              "      <td>1</td>\n",
              "      <td>2013</td>\n",
              "      <td>21</td>\n",
              "      <td>37730</td>\n",
              "      <td>0.0</td>\n",
              "      <td>5084.00</td>\n",
              "      <td>1083.90</td>\n",
              "      <td>956.91</td>\n",
              "      <td>387.50</td>\n",
              "      <td>7512.31</td>\n",
              "    </tr>\n",
              "  </tbody>\n",
              "</table>\n",
              "</div>"
            ],
            "text/plain": [
              "   Organization Group Code  Year  ...  Other Benefits  Total Compensation\n",
              "0                        1  2013  ...         4532.63            85281.78\n",
              "1                        1  2013  ...         4755.14            79895.32\n",
              "2                        1  2013  ...         4702.71            93649.71\n",
              "3                        1  2013  ...         7458.76           134237.37\n",
              "4                        1  2013  ...          387.50             7512.31\n",
              "\n",
              "[5 rows x 10 columns]"
            ]
          },
          "metadata": {},
          "execution_count": 25
        }
      ]
    },
    {
      "cell_type": "code",
      "metadata": {
        "colab": {
          "base_uri": "https://localhost:8080/",
          "height": 458
        },
        "id": "78oJ2gHHLXMn",
        "outputId": "6632eda4-679e-40d4-df94-08dfafb45cce"
      },
      "source": [
        "corr_df=df1.corr()\n",
        "corr_df"
      ],
      "execution_count": 26,
      "outputs": [
        {
          "output_type": "execute_result",
          "data": {
            "text/html": [
              "<div>\n",
              "<style scoped>\n",
              "    .dataframe tbody tr th:only-of-type {\n",
              "        vertical-align: middle;\n",
              "    }\n",
              "\n",
              "    .dataframe tbody tr th {\n",
              "        vertical-align: top;\n",
              "    }\n",
              "\n",
              "    .dataframe thead th {\n",
              "        text-align: right;\n",
              "    }\n",
              "</style>\n",
              "<table border=\"1\" class=\"dataframe\">\n",
              "  <thead>\n",
              "    <tr style=\"text-align: right;\">\n",
              "      <th></th>\n",
              "      <th>Organization Group Code</th>\n",
              "      <th>Year</th>\n",
              "      <th>Union Code</th>\n",
              "      <th>Employee Identifier</th>\n",
              "      <th>Overtime</th>\n",
              "      <th>Total Salary</th>\n",
              "      <th>Retirement</th>\n",
              "      <th>Health and Dental</th>\n",
              "      <th>Other Benefits</th>\n",
              "      <th>Total Compensation</th>\n",
              "    </tr>\n",
              "  </thead>\n",
              "  <tbody>\n",
              "    <tr>\n",
              "      <th>Organization Group Code</th>\n",
              "      <td>1.000000</td>\n",
              "      <td>-0.089016</td>\n",
              "      <td>0.005683</td>\n",
              "      <td>-0.004564</td>\n",
              "      <td>-0.299784</td>\n",
              "      <td>-0.300198</td>\n",
              "      <td>-0.265415</td>\n",
              "      <td>-0.241567</td>\n",
              "      <td>0.011459</td>\n",
              "      <td>-0.286916</td>\n",
              "    </tr>\n",
              "    <tr>\n",
              "      <th>Year</th>\n",
              "      <td>-0.089016</td>\n",
              "      <td>1.000000</td>\n",
              "      <td>0.002177</td>\n",
              "      <td>0.000354</td>\n",
              "      <td>0.019081</td>\n",
              "      <td>-0.004623</td>\n",
              "      <td>0.018701</td>\n",
              "      <td>-0.031357</td>\n",
              "      <td>0.010475</td>\n",
              "      <td>-0.002531</td>\n",
              "    </tr>\n",
              "    <tr>\n",
              "      <th>Union Code</th>\n",
              "      <td>0.005683</td>\n",
              "      <td>0.002177</td>\n",
              "      <td>1.000000</td>\n",
              "      <td>-0.001314</td>\n",
              "      <td>0.056550</td>\n",
              "      <td>0.013453</td>\n",
              "      <td>-0.052165</td>\n",
              "      <td>-0.065919</td>\n",
              "      <td>-0.277734</td>\n",
              "      <td>-0.017239</td>\n",
              "    </tr>\n",
              "    <tr>\n",
              "      <th>Employee Identifier</th>\n",
              "      <td>-0.004564</td>\n",
              "      <td>0.000354</td>\n",
              "      <td>-0.001314</td>\n",
              "      <td>1.000000</td>\n",
              "      <td>0.000762</td>\n",
              "      <td>0.000261</td>\n",
              "      <td>-0.000499</td>\n",
              "      <td>-0.001953</td>\n",
              "      <td>0.000369</td>\n",
              "      <td>0.000008</td>\n",
              "    </tr>\n",
              "    <tr>\n",
              "      <th>Overtime</th>\n",
              "      <td>-0.299784</td>\n",
              "      <td>0.019081</td>\n",
              "      <td>0.056550</td>\n",
              "      <td>0.000762</td>\n",
              "      <td>1.000000</td>\n",
              "      <td>0.498810</td>\n",
              "      <td>0.316500</td>\n",
              "      <td>0.313769</td>\n",
              "      <td>0.066045</td>\n",
              "      <td>0.456965</td>\n",
              "    </tr>\n",
              "    <tr>\n",
              "      <th>Total Salary</th>\n",
              "      <td>-0.300198</td>\n",
              "      <td>-0.004623</td>\n",
              "      <td>0.013453</td>\n",
              "      <td>0.000261</td>\n",
              "      <td>0.498810</td>\n",
              "      <td>1.000000</td>\n",
              "      <td>0.933415</td>\n",
              "      <td>0.753927</td>\n",
              "      <td>0.597039</td>\n",
              "      <td>0.994167</td>\n",
              "    </tr>\n",
              "    <tr>\n",
              "      <th>Retirement</th>\n",
              "      <td>-0.265415</td>\n",
              "      <td>0.018701</td>\n",
              "      <td>-0.052165</td>\n",
              "      <td>-0.000499</td>\n",
              "      <td>0.316500</td>\n",
              "      <td>0.933415</td>\n",
              "      <td>1.000000</td>\n",
              "      <td>0.798692</td>\n",
              "      <td>0.659329</td>\n",
              "      <td>0.959172</td>\n",
              "    </tr>\n",
              "    <tr>\n",
              "      <th>Health and Dental</th>\n",
              "      <td>-0.241567</td>\n",
              "      <td>-0.031357</td>\n",
              "      <td>-0.065919</td>\n",
              "      <td>-0.001953</td>\n",
              "      <td>0.313769</td>\n",
              "      <td>0.753927</td>\n",
              "      <td>0.798692</td>\n",
              "      <td>1.000000</td>\n",
              "      <td>0.586858</td>\n",
              "      <td>0.802022</td>\n",
              "    </tr>\n",
              "    <tr>\n",
              "      <th>Other Benefits</th>\n",
              "      <td>0.011459</td>\n",
              "      <td>0.010475</td>\n",
              "      <td>-0.277734</td>\n",
              "      <td>0.000369</td>\n",
              "      <td>0.066045</td>\n",
              "      <td>0.597039</td>\n",
              "      <td>0.659329</td>\n",
              "      <td>0.586858</td>\n",
              "      <td>1.000000</td>\n",
              "      <td>0.653642</td>\n",
              "    </tr>\n",
              "    <tr>\n",
              "      <th>Total Compensation</th>\n",
              "      <td>-0.286916</td>\n",
              "      <td>-0.002531</td>\n",
              "      <td>-0.017239</td>\n",
              "      <td>0.000008</td>\n",
              "      <td>0.456965</td>\n",
              "      <td>0.994167</td>\n",
              "      <td>0.959172</td>\n",
              "      <td>0.802022</td>\n",
              "      <td>0.653642</td>\n",
              "      <td>1.000000</td>\n",
              "    </tr>\n",
              "  </tbody>\n",
              "</table>\n",
              "</div>"
            ],
            "text/plain": [
              "                         Organization Group Code  ...  Total Compensation\n",
              "Organization Group Code                 1.000000  ...           -0.286916\n",
              "Year                                   -0.089016  ...           -0.002531\n",
              "Union Code                              0.005683  ...           -0.017239\n",
              "Employee Identifier                    -0.004564  ...            0.000008\n",
              "Overtime                               -0.299784  ...            0.456965\n",
              "Total Salary                           -0.300198  ...            0.994167\n",
              "Retirement                             -0.265415  ...            0.959172\n",
              "Health and Dental                      -0.241567  ...            0.802022\n",
              "Other Benefits                          0.011459  ...            0.653642\n",
              "Total Compensation                     -0.286916  ...            1.000000\n",
              "\n",
              "[10 rows x 10 columns]"
            ]
          },
          "metadata": {},
          "execution_count": 26
        }
      ]
    },
    {
      "cell_type": "markdown",
      "metadata": {
        "id": "aAXrTEZ3UddE"
      },
      "source": [
        "# Determine value of K for clusters using elbow method"
      ]
    },
    {
      "cell_type": "code",
      "metadata": {
        "colab": {
          "base_uri": "https://localhost:8080/"
        },
        "id": "wlQqLhpyMO1y",
        "outputId": "cda87783-be50-46a3-b80d-8b32acb1373a"
      },
      "source": [
        "df1.columns"
      ],
      "execution_count": 27,
      "outputs": [
        {
          "output_type": "execute_result",
          "data": {
            "text/plain": [
              "Index(['Organization Group Code', 'Year', 'Union Code', 'Employee Identifier',\n",
              "       'Overtime', 'Total Salary', 'Retirement', 'Health and Dental',\n",
              "       'Other Benefits', 'Total Compensation'],\n",
              "      dtype='object')"
            ]
          },
          "metadata": {},
          "execution_count": 27
        }
      ]
    },
    {
      "cell_type": "code",
      "metadata": {
        "id": "sRjvy5JuJ5En"
      },
      "source": [
        "from sklearn.cluster import KMeans\n",
        "from scipy.spatial.distance import cdist, pdist"
      ],
      "execution_count": 28,
      "outputs": []
    },
    {
      "cell_type": "code",
      "metadata": {
        "id": "jq1daUyUNX2o"
      },
      "source": [
        "distortions = []\n",
        "inertias = []\n",
        "mapping1 = {}\n",
        "mapping2 = {}\n",
        "K = range(1, 10)\n",
        "X= df1.drop(['Organization Group Code', 'Year', 'Union Code', 'Employee Identifier',\n",
        "       'Overtime', 'Retirement', 'Health and Dental',\n",
        "       'Other Benefits'],axis=1)\n",
        " \n",
        "for k in K:\n",
        "    # Building and fitting the model\n",
        "    kmeanModel = KMeans(n_clusters=k).fit(X)\n",
        "    kmeanModel.fit(X)\n",
        " \n",
        "    distortions.append(sum(np.min(cdist(X, kmeanModel.cluster_centers_,\n",
        "                                        'euclidean'), axis=1)) / X.shape[0])\n",
        "    inertias.append(kmeanModel.inertia_)\n",
        " \n",
        "    mapping1[k] = sum(np.min(cdist(X, kmeanModel.cluster_centers_,\n",
        "                                   'euclidean'), axis=1)) / X.shape[0]\n",
        "    mapping2[k] = kmeanModel.inertia_"
      ],
      "execution_count": 29,
      "outputs": []
    },
    {
      "cell_type": "code",
      "metadata": {
        "colab": {
          "base_uri": "https://localhost:8080/"
        },
        "id": "K_KXRSFFQRL3",
        "outputId": "50bf985e-6c51-4206-c539-87a19093ee03"
      },
      "source": [
        "for key, val in mapping1.items():\n",
        "    print(f'{key} : {val}')"
      ],
      "execution_count": 30,
      "outputs": [
        {
          "output_type": "stream",
          "name": "stdout",
          "text": [
            "1 : 69258.2952186207\n",
            "2 : 42000.85386560159\n",
            "3 : 25849.46183864569\n",
            "4 : 20543.01662351909\n",
            "5 : 16773.591696219035\n",
            "6 : 14262.47679799575\n",
            "7 : 12491.10582942345\n",
            "8 : 11202.612812915535\n",
            "9 : 10376.234227503028\n"
          ]
        }
      ]
    },
    {
      "cell_type": "code",
      "metadata": {
        "colab": {
          "base_uri": "https://localhost:8080/",
          "height": 295
        },
        "id": "Qq67IyJKQd-F",
        "outputId": "ddab3b33-8462-4cea-a7df-9f3d25814cca"
      },
      "source": [
        "plt.plot(K, distortions, 'bx-')\n",
        "plt.xlabel('Values of K')\n",
        "plt.ylabel('Distortion')\n",
        "plt.title('The Elbow Method using Distortion')\n",
        "plt.show()"
      ],
      "execution_count": 31,
      "outputs": [
        {
          "output_type": "display_data",
          "data": {
            "image/png": "[encoded data removed]",
            "text/plain": [
              "<Figure size 432x288 with 1 Axes>"
            ]
          },
          "metadata": {
            "needs_background": "light"
          }
        }
      ]
    },
    {
      "cell_type": "code",
      "metadata": {
        "colab": {
          "base_uri": "https://localhost:8080/",
          "height": 295
        },
        "id": "jL--65D0Qq8H",
        "outputId": "13e3067a-cc51-470b-8fc5-4ce3e66ad4cc"
      },
      "source": [
        "\n",
        "plt.plot(K, inertias, 'bx-')\n",
        "plt.xlabel('Values of K')\n",
        "plt.ylabel('Inertia')\n",
        "plt.title('The Elbow Method using Inertia')\n",
        "plt.show()"
      ],
      "execution_count": 35,
      "outputs": [
        {
          "output_type": "display_data",
          "data": {
            "image/png": "[encoded data removed]",
            "text/plain": [
              "<Figure size 432x288 with 1 Axes>"
            ]
          },
          "metadata": {
            "needs_background": "light"
          }
        }
      ]
    },
    {
      "cell_type": "markdown",
      "metadata": {
        "id": "1gLsGEB-UsD5"
      },
      "source": [
        "# Find clusters using k =3"
      ]
    },
    {
      "cell_type": "code",
      "metadata": {
        "id": "rQWqyJ_fS1mq"
      },
      "source": [
        "\n",
        "kmeans=KMeans(n_clusters=3)"
      ],
      "execution_count": 36,
      "outputs": []
    },
    {
      "cell_type": "code",
      "metadata": {
        "colab": {
          "base_uri": "https://localhost:8080/"
        },
        "id": "UnfKiSwhT1s9",
        "outputId": "083a9c45-dfe3-4d66-abe0-6bddc803e91e"
      },
      "source": [
        "kmeans.fit(df1)"
      ],
      "execution_count": 48,
      "outputs": [
        {
          "output_type": "execute_result",
          "data": {
            "text/plain": [
              "KMeans(algorithm='auto', copy_x=True, init='k-means++', max_iter=300,\n",
              "       n_clusters=3, n_init=10, n_jobs=None, precompute_distances='auto',\n",
              "       random_state=None, tol=0.0001, verbose=0)"
            ]
          },
          "metadata": {},
          "execution_count": 48
        }
      ]
    },
    {
      "cell_type": "code",
      "metadata": {
        "colab": {
          "base_uri": "https://localhost:8080/"
        },
        "id": "kduivBozTd0q",
        "outputId": "64f3bc32-b660-4fc6-976f-a4993e59f24a"
      },
      "source": [
        "print(kmeans.cluster_centers_)\n"
      ],
      "execution_count": 49,
      "outputs": [
        {
          "output_type": "stream",
          "name": "stdout",
          "text": [
            "[[3.32738828e+00 2.01400037e+03 5.15619845e+02 2.85867166e+04\n",
            "  3.92836494e+02 1.69551532e+04 2.48790360e+03 3.13102757e+03\n",
            "  1.40058696e+03 2.39746713e+04]\n",
            " [2.18579001e+00 2.01399680e+03 5.32854548e+02 2.85594588e+04\n",
            "  1.30961406e+04 1.48877031e+05 2.62852095e+04 1.27305568e+04\n",
            "  7.31406247e+03 1.95206860e+05]\n",
            " [2.85898242e+00 2.01398405e+03 4.51348751e+02 2.85568285e+04\n",
            "  3.54232728e+03 7.68456326e+04 1.50906589e+04 1.16212386e+04\n",
            "  5.77439562e+03 1.09331926e+05]]\n"
          ]
        }
      ]
    },
    {
      "cell_type": "code",
      "metadata": {
        "colab": {
          "base_uri": "https://localhost:8080/",
          "height": 265
        },
        "id": "1dbbUSqMT_BI",
        "outputId": "7f63513a-dc02-4360-f0cd-cc73a559a292"
      },
      "source": [
        "sns.countplot(x=kmeans.labels_, palette='Oranges')\n",
        "plt.show()"
      ],
      "execution_count": 50,
      "outputs": [
        {
          "output_type": "display_data",
          "data": {
            "image/png": "[encoded data removed]",
            "text/plain": [
              "<Figure size 432x288 with 1 Axes>"
            ]
          },
          "metadata": {
            "needs_background": "light"
          }
        }
      ]
    },
    {
      "cell_type": "code",
      "metadata": {
        "id": "MCnLkdTNVGfS"
      },
      "source": [
        ""
      ],
      "execution_count": 50,
      "outputs": []
    },
    {
      "cell_type": "code",
      "metadata": {
        "colab": {
          "base_uri": "https://localhost:8080/",
          "height": 220
        },
        "id": "yLsE8t0KVP67",
        "outputId": "c9b332a7-a464-40c7-dfc6-dd1c68f26f57"
      },
      "source": [
        "df1.head()"
      ],
      "execution_count": 51,
      "outputs": [
        {
          "output_type": "execute_result",
          "data": {
            "text/html": [
              "<div>\n",
              "<style scoped>\n",
              "    .dataframe tbody tr th:only-of-type {\n",
              "        vertical-align: middle;\n",
              "    }\n",
              "\n",
              "    .dataframe tbody tr th {\n",
              "        vertical-align: top;\n",
              "    }\n",
              "\n",
              "    .dataframe thead th {\n",
              "        text-align: right;\n",
              "    }\n",
              "</style>\n",
              "<table border=\"1\" class=\"dataframe\">\n",
              "  <thead>\n",
              "    <tr style=\"text-align: right;\">\n",
              "      <th></th>\n",
              "      <th>Organization Group Code</th>\n",
              "      <th>Year</th>\n",
              "      <th>Union Code</th>\n",
              "      <th>Employee Identifier</th>\n",
              "      <th>Overtime</th>\n",
              "      <th>Total Salary</th>\n",
              "      <th>Retirement</th>\n",
              "      <th>Health and Dental</th>\n",
              "      <th>Other Benefits</th>\n",
              "      <th>Total Compensation</th>\n",
              "    </tr>\n",
              "  </thead>\n",
              "  <tbody>\n",
              "    <tr>\n",
              "      <th>0</th>\n",
              "      <td>1</td>\n",
              "      <td>2013</td>\n",
              "      <td>21</td>\n",
              "      <td>37730</td>\n",
              "      <td>0.0</td>\n",
              "      <td>57534.65</td>\n",
              "      <td>11253.16</td>\n",
              "      <td>11961.34</td>\n",
              "      <td>4532.63</td>\n",
              "      <td>85281.78</td>\n",
              "    </tr>\n",
              "    <tr>\n",
              "      <th>1</th>\n",
              "      <td>1</td>\n",
              "      <td>2013</td>\n",
              "      <td>21</td>\n",
              "      <td>26574</td>\n",
              "      <td>0.0</td>\n",
              "      <td>57678.50</td>\n",
              "      <td>10284.88</td>\n",
              "      <td>7176.80</td>\n",
              "      <td>4755.14</td>\n",
              "      <td>79895.32</td>\n",
              "    </tr>\n",
              "    <tr>\n",
              "      <th>2</th>\n",
              "      <td>1</td>\n",
              "      <td>2013</td>\n",
              "      <td>21</td>\n",
              "      <td>8148</td>\n",
              "      <td>0.0</td>\n",
              "      <td>63532.93</td>\n",
              "      <td>12495.83</td>\n",
              "      <td>12918.24</td>\n",
              "      <td>4702.71</td>\n",
              "      <td>93649.71</td>\n",
              "    </tr>\n",
              "    <tr>\n",
              "      <th>3</th>\n",
              "      <td>1</td>\n",
              "      <td>2013</td>\n",
              "      <td>21</td>\n",
              "      <td>27436</td>\n",
              "      <td>0.0</td>\n",
              "      <td>94215.92</td>\n",
              "      <td>19644.45</td>\n",
              "      <td>12918.24</td>\n",
              "      <td>7458.76</td>\n",
              "      <td>134237.37</td>\n",
              "    </tr>\n",
              "    <tr>\n",
              "      <th>4</th>\n",
              "      <td>1</td>\n",
              "      <td>2013</td>\n",
              "      <td>21</td>\n",
              "      <td>37730</td>\n",
              "      <td>0.0</td>\n",
              "      <td>5084.00</td>\n",
              "      <td>1083.90</td>\n",
              "      <td>956.91</td>\n",
              "      <td>387.50</td>\n",
              "      <td>7512.31</td>\n",
              "    </tr>\n",
              "  </tbody>\n",
              "</table>\n",
              "</div>"
            ],
            "text/plain": [
              "   Organization Group Code  Year  ...  Other Benefits  Total Compensation\n",
              "0                        1  2013  ...         4532.63            85281.78\n",
              "1                        1  2013  ...         4755.14            79895.32\n",
              "2                        1  2013  ...         4702.71            93649.71\n",
              "3                        1  2013  ...         7458.76           134237.37\n",
              "4                        1  2013  ...          387.50             7512.31\n",
              "\n",
              "[5 rows x 10 columns]"
            ]
          },
          "metadata": {},
          "execution_count": 51
        }
      ]
    },
    {
      "cell_type": "code",
      "metadata": {
        "colab": {
          "base_uri": "https://localhost:8080/",
          "height": 265
        },
        "id": "XOKb2-EwU3i5",
        "outputId": "f9fd87a1-fbf7-49fd-91d5-a4e8413f2b70"
      },
      "source": [
        "plt.scatter(df1.iloc[:,5].values,df.iloc[:,-1].values, c=kmeans.labels_, cmap=\"rainbow\")\n",
        "\n",
        "plt.show()"
      ],
      "execution_count": 68,
      "outputs": [
        {
          "output_type": "display_data",
          "data": {
            "image/png": "[encoded data removed]",
            "text/plain": [
              "<Figure size 432x288 with 1 Axes>"
            ]
          },
          "metadata": {
            "needs_background": "light"
          }
        }
      ]
    },
    {
      "cell_type": "code",
      "metadata": {
        "colab": {
          "base_uri": "https://localhost:8080/",
          "height": 265
        },
        "id": "Qv-LtCWtliy4",
        "outputId": "663a376d-7841-4763-bff7-7735d7d78318"
      },
      "source": [
        "plt.scatter(df1.iloc[:,6].values,df.iloc[:,-1].values, c=kmeans.labels_, cmap=\"rainbow\")\n",
        "\n",
        "plt.show()"
      ],
      "execution_count": 70,
      "outputs": [
        {
          "output_type": "display_data",
          "data": {
            "image/png": "[encoded data removed]",
            "text/plain": [
              "<Figure size 432x288 with 1 Axes>"
            ]
          },
          "metadata": {
            "needs_background": "light"
          }
        }
      ]
    }
  ]
}